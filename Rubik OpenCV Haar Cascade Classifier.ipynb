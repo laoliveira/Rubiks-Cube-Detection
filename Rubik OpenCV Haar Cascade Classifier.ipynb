{
 "cells": [
  {
   "cell_type": "markdown",
   "metadata": {},
   "source": [
    "# OpenCV Classifier Haar Feature-based Cascade for Object Detection\n"
   ]
  },
  {
   "cell_type": "markdown",
   "metadata": {},
   "source": [
    "### Creating samples and training\n",
    "- negatives.txt and positives.vec are the files containing the image list and location for positive (generated with the seed image) and negative sample images"
   ]
  },
  {
   "cell_type": "raw",
   "metadata": {},
   "source": [
    "opencv_createsamples -img rubik.png -bg negatives.txt -info info/info.lst -pngoutput info -maxxangle 0.5 -maxyangle 0.5 -maxzangle 0.5 -num 700\n",
    "\n",
    "opencv_createsamples -info info/info.lst -num 700 -w 40 -h 40 -vec positives.vec\n",
    "\n",
    "opencv_traincascade -data data -vec positives.vec -bg negatives.txt -numPos 700 -numNeg 300 -numStages 10 -w 40 -h 40"
   ]
  },
  {
   "cell_type": "markdown",
   "metadata": {},
   "source": [
    "### Webcam test"
   ]
  },
  {
   "cell_type": "code",
   "execution_count": null,
   "metadata": {},
   "outputs": [],
   "source": [
    "import numpy as np\n",
    "import cv2\n",
    "\n",
    "rubik_cascade = cv2.CascadeClassifier('10stageRubikCascade.xml')\n",
    "\n",
    "cap = cv2.VideoCapture(0)\n",
    "\n",
    "while 1:\n",
    "    ret, img = cap.read()\n",
    "    gray = cv2.cvtColor(img, cv2.COLOR_BGR2GRAY)\n",
    "    cv2.imshow('frame',gray)\n",
    "    \n",
    "    rubik = rubik_cascade.detectMultiScale(gray, 30, 30)\n",
    "\n",
    "    for (x,y,w,h) in rubik:\n",
    "        cv2.rectangle(img,(x,y),(x+2*w,y+2*h),(255,255,0),3)\n",
    "\n",
    "\n",
    "    cv2.imshow('img',img)\n",
    "    \n",
    "    #Release with escape key\n",
    "    k = cv2.waitKey(30) & 0xff\n",
    "    if k == 27:\n",
    "        break\n",
    "\n",
    "cap.release()\n",
    "cv2.destroyAllWindows()"
   ]
  }
 ],
 "metadata": {
  "kernelspec": {
   "display_name": "Python 3",
   "language": "python",
   "name": "python3"
  },
  "language_info": {
   "codemirror_mode": {
    "name": "ipython",
    "version": 3
   },
   "file_extension": ".py",
   "mimetype": "text/x-python",
   "name": "python",
   "nbconvert_exporter": "python",
   "pygments_lexer": "ipython3",
   "version": "3.6.5"
  }
 },
 "nbformat": 4,
 "nbformat_minor": 2
}
